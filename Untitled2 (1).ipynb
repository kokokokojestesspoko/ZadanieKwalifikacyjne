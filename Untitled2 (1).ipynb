{
 "cells": [
  {
   "cell_type": "code",
   "execution_count": 19,
   "id": "5488ce5b",
   "metadata": {},
   "outputs": [],
   "source": [
    "import pandas as pd\n",
    "import numpy as np\n",
    "\n"
   ]
  },
  {
   "cell_type": "code",
   "execution_count": 20,
   "id": "61c33ce7",
   "metadata": {},
   "outputs": [],
   "source": [
    "import pandas as pd\n",
    "import numpy as np\n",
    "# save filepath to variable for easier access\n",
    "forecast_path = pd.read_csv(r'C:\\Users\\User\\OneDrive\\Pulpit\\zadanie rekrutacyjne\\jena_climate_2009_2016.csv')\n"
   ]
  },
  {
   "cell_type": "code",
   "execution_count": 32,
   "id": "ea8b6ecd",
   "metadata": {},
   "outputs": [
    {
     "name": "stdout",
     "output_type": "stream",
     "text": [
      "<class 'pandas.core.frame.DataFrame'>\n",
      "RangeIndex: 420551 entries, 0 to 420550\n",
      "Data columns (total 14 columns):\n",
      " #   Column           Non-Null Count   Dtype  \n",
      "---  ------           --------------   -----  \n",
      " 0   Date Time        420551 non-null  int64  \n",
      " 1   p (mbar)         420551 non-null  float64\n",
      " 2   T (degC)         420551 non-null  float64\n",
      " 3   Tdew (degC)      420551 non-null  float64\n",
      " 4   rh (%)           420551 non-null  float64\n",
      " 5   VPmax (mbar)     420551 non-null  float64\n",
      " 6   VPact (mbar)     420551 non-null  float64\n",
      " 7   VPdef (mbar)     420551 non-null  float64\n",
      " 8   sh (g/kg)        420551 non-null  float64\n",
      " 9   H2OC (mmol/mol)  420551 non-null  float64\n",
      " 10  rho (g/m**3)     420551 non-null  float64\n",
      " 11  wv (m/s)         420551 non-null  float64\n",
      " 12  max. wv (m/s)    420551 non-null  float64\n",
      " 13  wd (deg)         420551 non-null  float64\n",
      "dtypes: float64(13), int64(1)\n",
      "memory usage: 44.9 MB\n"
     ]
    }
   ],
   "source": [
    "# read the data and store data in DataFrame titled prognoza_data\n",
    "forecast_data = forecast_path\n",
    "\n",
    "forecast_data.info();\n",
    "\n"
   ]
  },
  {
   "cell_type": "code",
   "execution_count": 33,
   "id": "372a52f9",
   "metadata": {},
   "outputs": [
    {
     "name": "stdout",
     "output_type": "stream",
     "text": [
      "0         719163\n",
      "1         719163\n",
      "2         719163\n",
      "3         719163\n",
      "4         719163\n",
      "           ...  \n",
      "420546    719163\n",
      "420547    719163\n",
      "420548    719163\n",
      "420549    719163\n",
      "420550    719163\n",
      "Name: Date Time, Length: 420551, dtype: int64\n"
     ]
    }
   ],
   "source": [
    "#Date Time ma NIEODPOWIEDNI format, należy go zrzutować na format daty\n",
    "import datetime as dt\n",
    "from pandas import DataFrame\n",
    "\n",
    "\n",
    "\n",
    "forecast_data['Date Time'] = pd.to_datetime(forecast_data['Date Time'])\n",
    "forecast_data['Date Time']=forecast_data['Date Time'].map(dt.datetime.toordinal)\n",
    "\n",
    "# Podgląd wskazuje, że rzutowanie przebiegło pomyślnie\n",
    "print(forecast_data['Date Time'])"
   ]
  },
  {
   "cell_type": "code",
   "execution_count": 23,
   "id": "984f4c57",
   "metadata": {},
   "outputs": [
    {
     "data": {
      "text/plain": [
       "Date Time          0\n",
       "p (mbar)           0\n",
       "T (degC)           0\n",
       "Tpot (K)           0\n",
       "Tdew (degC)        0\n",
       "rh (%)             0\n",
       "VPmax (mbar)       0\n",
       "VPact (mbar)       0\n",
       "VPdef (mbar)       0\n",
       "sh (g/kg)          0\n",
       "H2OC (mmol/mol)    0\n",
       "rho (g/m**3)       0\n",
       "wv (m/s)           0\n",
       "max. wv (m/s)      0\n",
       "wd (deg)           0\n",
       "dtype: int64"
      ]
     },
     "execution_count": 23,
     "metadata": {},
     "output_type": "execute_result"
    }
   ],
   "source": [
    "#sprawdzanie czy nie ma brakujących danych\n",
    "\n",
    "missing_values_count = forecast_data.isnull().sum()\n",
    "# get the number of missing data points per column\n",
    "missing_values_count[0:len(forecast_data.columns)]"
   ]
  },
  {
   "cell_type": "code",
   "execution_count": null,
   "id": "1079b732",
   "metadata": {},
   "outputs": [],
   "source": []
  },
  {
   "cell_type": "code",
   "execution_count": 6,
   "id": "ede6f6ae",
   "metadata": {},
   "outputs": [],
   "source": [
    "#jak widać nie ma brakujących danych, więc nie jest konieczne uzupełnianie zmiennymi bądź usuwanie danych z pliku"
   ]
  },
  {
   "cell_type": "code",
   "execution_count": 24,
   "id": "67361c97",
   "metadata": {},
   "outputs": [
    {
     "data": {
      "text/html": [
       "<div>\n",
       "<style scoped>\n",
       "    .dataframe tbody tr th:only-of-type {\n",
       "        vertical-align: middle;\n",
       "    }\n",
       "\n",
       "    .dataframe tbody tr th {\n",
       "        vertical-align: top;\n",
       "    }\n",
       "\n",
       "    .dataframe thead th {\n",
       "        text-align: right;\n",
       "    }\n",
       "</style>\n",
       "<table border=\"1\" class=\"dataframe\">\n",
       "  <thead>\n",
       "    <tr style=\"text-align: right;\">\n",
       "      <th></th>\n",
       "      <th>Date Time</th>\n",
       "      <th>p (mbar)</th>\n",
       "      <th>T (degC)</th>\n",
       "      <th>Tpot (K)</th>\n",
       "      <th>Tdew (degC)</th>\n",
       "      <th>rh (%)</th>\n",
       "      <th>VPmax (mbar)</th>\n",
       "      <th>VPact (mbar)</th>\n",
       "      <th>VPdef (mbar)</th>\n",
       "      <th>sh (g/kg)</th>\n",
       "      <th>H2OC (mmol/mol)</th>\n",
       "      <th>rho (g/m**3)</th>\n",
       "      <th>wv (m/s)</th>\n",
       "      <th>max. wv (m/s)</th>\n",
       "      <th>wd (deg)</th>\n",
       "    </tr>\n",
       "  </thead>\n",
       "  <tbody>\n",
       "    <tr>\n",
       "      <th>count</th>\n",
       "      <td>420551.000000</td>\n",
       "      <td>420551.000000</td>\n",
       "      <td>420551.000000</td>\n",
       "      <td>420551.000000</td>\n",
       "      <td>420551.000000</td>\n",
       "      <td>420551.000000</td>\n",
       "      <td>420551.000000</td>\n",
       "      <td>420551.000000</td>\n",
       "      <td>420551.000000</td>\n",
       "      <td>420551.000000</td>\n",
       "      <td>420551.000000</td>\n",
       "      <td>420551.000000</td>\n",
       "      <td>420551.000000</td>\n",
       "      <td>420551.000000</td>\n",
       "      <td>420551.000000</td>\n",
       "    </tr>\n",
       "    <tr>\n",
       "      <th>mean</th>\n",
       "      <td>734866.712539</td>\n",
       "      <td>989.212776</td>\n",
       "      <td>9.450147</td>\n",
       "      <td>283.492743</td>\n",
       "      <td>4.955854</td>\n",
       "      <td>76.008259</td>\n",
       "      <td>13.576251</td>\n",
       "      <td>9.533756</td>\n",
       "      <td>4.042412</td>\n",
       "      <td>6.022408</td>\n",
       "      <td>9.640223</td>\n",
       "      <td>1216.062748</td>\n",
       "      <td>1.702224</td>\n",
       "      <td>3.056555</td>\n",
       "      <td>174.743738</td>\n",
       "    </tr>\n",
       "    <tr>\n",
       "      <th>std</th>\n",
       "      <td>842.737876</td>\n",
       "      <td>8.358481</td>\n",
       "      <td>8.423365</td>\n",
       "      <td>8.504471</td>\n",
       "      <td>6.730674</td>\n",
       "      <td>16.476175</td>\n",
       "      <td>7.739020</td>\n",
       "      <td>4.184164</td>\n",
       "      <td>4.896851</td>\n",
       "      <td>2.656139</td>\n",
       "      <td>4.235395</td>\n",
       "      <td>39.975208</td>\n",
       "      <td>65.446714</td>\n",
       "      <td>69.016932</td>\n",
       "      <td>86.681693</td>\n",
       "    </tr>\n",
       "    <tr>\n",
       "      <th>min</th>\n",
       "      <td>733408.000000</td>\n",
       "      <td>913.600000</td>\n",
       "      <td>-23.010000</td>\n",
       "      <td>250.600000</td>\n",
       "      <td>-25.010000</td>\n",
       "      <td>12.950000</td>\n",
       "      <td>0.950000</td>\n",
       "      <td>0.790000</td>\n",
       "      <td>0.000000</td>\n",
       "      <td>0.500000</td>\n",
       "      <td>0.800000</td>\n",
       "      <td>1059.450000</td>\n",
       "      <td>-9999.000000</td>\n",
       "      <td>-9999.000000</td>\n",
       "      <td>0.000000</td>\n",
       "    </tr>\n",
       "    <tr>\n",
       "      <th>25%</th>\n",
       "      <td>734137.000000</td>\n",
       "      <td>984.200000</td>\n",
       "      <td>3.360000</td>\n",
       "      <td>277.430000</td>\n",
       "      <td>0.240000</td>\n",
       "      <td>65.210000</td>\n",
       "      <td>7.780000</td>\n",
       "      <td>6.210000</td>\n",
       "      <td>0.870000</td>\n",
       "      <td>3.920000</td>\n",
       "      <td>6.290000</td>\n",
       "      <td>1187.490000</td>\n",
       "      <td>0.990000</td>\n",
       "      <td>1.760000</td>\n",
       "      <td>124.900000</td>\n",
       "    </tr>\n",
       "    <tr>\n",
       "      <th>50%</th>\n",
       "      <td>734867.000000</td>\n",
       "      <td>989.580000</td>\n",
       "      <td>9.420000</td>\n",
       "      <td>283.470000</td>\n",
       "      <td>5.220000</td>\n",
       "      <td>79.300000</td>\n",
       "      <td>11.820000</td>\n",
       "      <td>8.860000</td>\n",
       "      <td>2.190000</td>\n",
       "      <td>5.590000</td>\n",
       "      <td>8.960000</td>\n",
       "      <td>1213.790000</td>\n",
       "      <td>1.760000</td>\n",
       "      <td>2.960000</td>\n",
       "      <td>198.100000</td>\n",
       "    </tr>\n",
       "    <tr>\n",
       "      <th>75%</th>\n",
       "      <td>735596.000000</td>\n",
       "      <td>994.720000</td>\n",
       "      <td>15.470000</td>\n",
       "      <td>289.530000</td>\n",
       "      <td>10.070000</td>\n",
       "      <td>89.400000</td>\n",
       "      <td>17.600000</td>\n",
       "      <td>12.350000</td>\n",
       "      <td>5.300000</td>\n",
       "      <td>7.800000</td>\n",
       "      <td>12.490000</td>\n",
       "      <td>1242.770000</td>\n",
       "      <td>2.860000</td>\n",
       "      <td>4.740000</td>\n",
       "      <td>234.100000</td>\n",
       "    </tr>\n",
       "    <tr>\n",
       "      <th>max</th>\n",
       "      <td>736330.000000</td>\n",
       "      <td>1015.350000</td>\n",
       "      <td>37.280000</td>\n",
       "      <td>311.340000</td>\n",
       "      <td>23.110000</td>\n",
       "      <td>100.000000</td>\n",
       "      <td>63.770000</td>\n",
       "      <td>28.320000</td>\n",
       "      <td>46.010000</td>\n",
       "      <td>18.130000</td>\n",
       "      <td>28.820000</td>\n",
       "      <td>1393.540000</td>\n",
       "      <td>28.490000</td>\n",
       "      <td>23.500000</td>\n",
       "      <td>360.000000</td>\n",
       "    </tr>\n",
       "  </tbody>\n",
       "</table>\n",
       "</div>"
      ],
      "text/plain": [
       "           Date Time       p (mbar)       T (degC)       Tpot (K)  \\\n",
       "count  420551.000000  420551.000000  420551.000000  420551.000000   \n",
       "mean   734866.712539     989.212776       9.450147     283.492743   \n",
       "std       842.737876       8.358481       8.423365       8.504471   \n",
       "min    733408.000000     913.600000     -23.010000     250.600000   \n",
       "25%    734137.000000     984.200000       3.360000     277.430000   \n",
       "50%    734867.000000     989.580000       9.420000     283.470000   \n",
       "75%    735596.000000     994.720000      15.470000     289.530000   \n",
       "max    736330.000000    1015.350000      37.280000     311.340000   \n",
       "\n",
       "         Tdew (degC)         rh (%)   VPmax (mbar)   VPact (mbar)  \\\n",
       "count  420551.000000  420551.000000  420551.000000  420551.000000   \n",
       "mean        4.955854      76.008259      13.576251       9.533756   \n",
       "std         6.730674      16.476175       7.739020       4.184164   \n",
       "min       -25.010000      12.950000       0.950000       0.790000   \n",
       "25%         0.240000      65.210000       7.780000       6.210000   \n",
       "50%         5.220000      79.300000      11.820000       8.860000   \n",
       "75%        10.070000      89.400000      17.600000      12.350000   \n",
       "max        23.110000     100.000000      63.770000      28.320000   \n",
       "\n",
       "        VPdef (mbar)      sh (g/kg)  H2OC (mmol/mol)   rho (g/m**3)  \\\n",
       "count  420551.000000  420551.000000    420551.000000  420551.000000   \n",
       "mean        4.042412       6.022408         9.640223    1216.062748   \n",
       "std         4.896851       2.656139         4.235395      39.975208   \n",
       "min         0.000000       0.500000         0.800000    1059.450000   \n",
       "25%         0.870000       3.920000         6.290000    1187.490000   \n",
       "50%         2.190000       5.590000         8.960000    1213.790000   \n",
       "75%         5.300000       7.800000        12.490000    1242.770000   \n",
       "max        46.010000      18.130000        28.820000    1393.540000   \n",
       "\n",
       "            wv (m/s)  max. wv (m/s)       wd (deg)  \n",
       "count  420551.000000  420551.000000  420551.000000  \n",
       "mean        1.702224       3.056555     174.743738  \n",
       "std        65.446714      69.016932      86.681693  \n",
       "min     -9999.000000   -9999.000000       0.000000  \n",
       "25%         0.990000       1.760000     124.900000  \n",
       "50%         1.760000       2.960000     198.100000  \n",
       "75%         2.860000       4.740000     234.100000  \n",
       "max        28.490000      23.500000     360.000000  "
      ]
     },
     "execution_count": 24,
     "metadata": {},
     "output_type": "execute_result"
    }
   ],
   "source": [
    "# Tworzenie opisu danych\n",
    "forecast_data.describe()"
   ]
  },
  {
   "cell_type": "code",
   "execution_count": 8,
   "id": "5e75bdb5",
   "metadata": {},
   "outputs": [],
   "source": [
    "# Interpretacja Danych\n",
    "# Resultatem describe() jest pokazanie ośmiu liczb dla każdej z oryginalnych kolumn."
   ]
  },
  {
   "cell_type": "code",
   "execution_count": 25,
   "id": "a51e1445",
   "metadata": {},
   "outputs": [
    {
     "data": {
      "text/plain": [
       "Index(['Date Time', 'p (mbar)', 'T (degC)', 'Tpot (K)', 'Tdew (degC)',\n",
       "       'rh (%)', 'VPmax (mbar)', 'VPact (mbar)', 'VPdef (mbar)', 'sh (g/kg)',\n",
       "       'H2OC (mmol/mol)', 'rho (g/m**3)', 'wv (m/s)', 'max. wv (m/s)',\n",
       "       'wd (deg)'],\n",
       "      dtype='object')"
      ]
     },
     "execution_count": 25,
     "metadata": {},
     "output_type": "execute_result"
    }
   ],
   "source": [
    "forecast_data.columns"
   ]
  },
  {
   "cell_type": "code",
   "execution_count": 10,
   "id": "d4ef83fb",
   "metadata": {},
   "outputs": [],
   "source": [
    "# Plik posiada 16 kolumn które przechowują różne wartości fizyczne, niekonieczne niezbędne do stworzenia modelu prognozy pogody"
   ]
  },
  {
   "cell_type": "code",
   "execution_count": 11,
   "id": "164a5a90",
   "metadata": {},
   "outputs": [],
   "source": [
    "# Na przykład: Kolumna 'Tpot (K)' jest temperaturą podaną w kelvinach. \n",
    "# Takie dane nie są potrzebne do wyznaczonego modelu, zatem zostaną usunięte."
   ]
  },
  {
   "cell_type": "code",
   "execution_count": 26,
   "id": "d259cdfd",
   "metadata": {},
   "outputs": [],
   "source": [
    "forecast_data.drop('Tpot (K)', axis='columns',inplace=True) "
   ]
  },
  {
   "cell_type": "code",
   "execution_count": 13,
   "id": "66886b9e",
   "metadata": {},
   "outputs": [
    {
     "data": {
      "text/html": [
       "<div>\n",
       "<style scoped>\n",
       "    .dataframe tbody tr th:only-of-type {\n",
       "        vertical-align: middle;\n",
       "    }\n",
       "\n",
       "    .dataframe tbody tr th {\n",
       "        vertical-align: top;\n",
       "    }\n",
       "\n",
       "    .dataframe thead th {\n",
       "        text-align: right;\n",
       "    }\n",
       "</style>\n",
       "<table border=\"1\" class=\"dataframe\">\n",
       "  <thead>\n",
       "    <tr style=\"text-align: right;\">\n",
       "      <th></th>\n",
       "    </tr>\n",
       "  </thead>\n",
       "  <tbody>\n",
       "    <tr>\n",
       "      <th>0</th>\n",
       "    </tr>\n",
       "    <tr>\n",
       "      <th>1</th>\n",
       "    </tr>\n",
       "    <tr>\n",
       "      <th>2</th>\n",
       "    </tr>\n",
       "    <tr>\n",
       "      <th>3</th>\n",
       "    </tr>\n",
       "    <tr>\n",
       "      <th>4</th>\n",
       "    </tr>\n",
       "    <tr>\n",
       "      <th>...</th>\n",
       "    </tr>\n",
       "    <tr>\n",
       "      <th>420546</th>\n",
       "    </tr>\n",
       "    <tr>\n",
       "      <th>420547</th>\n",
       "    </tr>\n",
       "    <tr>\n",
       "      <th>420548</th>\n",
       "    </tr>\n",
       "    <tr>\n",
       "      <th>420549</th>\n",
       "    </tr>\n",
       "    <tr>\n",
       "      <th>420550</th>\n",
       "    </tr>\n",
       "  </tbody>\n",
       "</table>\n",
       "<p>420551 rows × 0 columns</p>\n",
       "</div>"
      ],
      "text/plain": [
       "Empty DataFrame\n",
       "Columns: []\n",
       "Index: [0, 1, 2, 3, 4, 5, 6, 7, 8, 9, 10, 11, 12, 13, 14, 15, 16, 17, 18, 19, 20, 21, 22, 23, 24, 25, 26, 27, 28, 29, 30, 31, 32, 33, 34, 35, 36, 37, 38, 39, 40, 41, 42, 43, 44, 45, 46, 47, 48, 49, 50, 51, 52, 53, 54, 55, 56, 57, 58, 59, 60, 61, 62, 63, 64, 65, 66, 67, 68, 69, 70, 71, 72, 73, 74, 75, 76, 77, 78, 79, 80, 81, 82, 83, 84, 85, 86, 87, 88, 89, 90, 91, 92, 93, 94, 95, 96, 97, 98, 99, ...]\n",
       "\n",
       "[420551 rows x 0 columns]"
      ]
     },
     "execution_count": 13,
     "metadata": {},
     "output_type": "execute_result"
    }
   ],
   "source": [
    "# Następnie usuwam dane które mają wysoką kardynalność\n",
    "# wczesniej jednak tworzę kopię obiektu i na nim wykonuję operację\n",
    "\n",
    "forecast_data.drop(columns=['Date Time', 'p (mbar)', 'T (degC)', 'Tdew (degC)','rh (%)', \n",
    "                                 'VPmax (mbar)', 'VPact (mbar)', 'VPdef (mbar)', 'sh (g/kg)',\n",
    "       'H2OC (mmol/mol)', 'rho (g/m**3)', 'wv (m/s)', 'max. wv (m/s)',\n",
    "       'wd (deg)'], axis=1)\n"
   ]
  },
  {
   "cell_type": "code",
   "execution_count": 14,
   "id": "c4451dce",
   "metadata": {},
   "outputs": [],
   "source": [
    "# Tak przygotowane dane można użyć do stworzenia modelu prognozy pogody\n"
   ]
  },
  {
   "cell_type": "code",
   "execution_count": 29,
   "id": "cdb4966c",
   "metadata": {},
   "outputs": [],
   "source": [
    "# Ustalanie Targetu\n",
    " \n",
    "y = forecast_data['T (degC)']\n",
    "# Ustalanie Feature\n",
    "\n",
    "\n",
    "X = forecast_data[['Date Time', 'p (mbar)', 'Tdew (degC)','rh (%)', \n",
    "                                 'VPmax (mbar)', 'VPact (mbar)', 'VPdef (mbar)', 'sh (g/kg)',\n",
    "       'H2OC (mmol/mol)', 'rho (g/m**3)', 'wv (m/s)', 'max. wv (m/s)',\n",
    "       'wd (deg)']]"
   ]
  },
  {
   "cell_type": "code",
   "execution_count": 30,
   "id": "48c02942",
   "metadata": {},
   "outputs": [
    {
     "name": "stdout",
     "output_type": "stream",
     "text": [
      "train_X:  (315413, 13)\n",
      "val_X:  (105138, 13)\n",
      "train_y:  (315413,)\n",
      "val_y:  (105138,)\n"
     ]
    }
   ],
   "source": [
    "# import Split Data do dokładniejszego treningu\n",
    "from sklearn.model_selection import train_test_split\n",
    "# podział danych jest konieczny. Należy podzielić dane na treningowe i validacyjne i na nich osobno stworzyć modele do porównania \n",
    "# MAE\n",
    "train_X, val_X, train_y, val_y = train_test_split(X, y,random_state = 0)\n",
    "#sprawdzanie czy dane treningowe zgadzają się z danymi validacyjnymi\n",
    "print('train_X: ',train_X.shape)\n",
    "print('val_X: ', val_X.shape)\n",
    "print('train_y: ',train_y.shape)\n",
    "print('val_y: ', val_y.shape)"
   ]
  },
  {
   "cell_type": "code",
   "execution_count": null,
   "id": "6647b2e3",
   "metadata": {},
   "outputs": [],
   "source": []
  },
  {
   "cell_type": "code",
   "execution_count": 17,
   "id": "dd5ab929",
   "metadata": {},
   "outputs": [],
   "source": [
    "# import Modelu Random Forest Regressor \n",
    "#import Mean Absolute Error\n",
    "\n",
    "#from sklearn.metrics import mean_absolute_error\n",
    "#from sklearn.linear_model import LinearRegression\n",
    "#from sklearn.pipeline import make_pipeline\n",
    "#from sklearn.preprocessing import StandardScaler\n",
    "\n",
    "#lm = make_pipeline(\n",
    " #   StandardScaler(),\n",
    "  #  LinearRegression(),\n",
    "#)\n",
    "#lm.fit(train_X, train_y)\n"
   ]
  },
  {
   "cell_type": "code",
   "execution_count": 31,
   "id": "c56afc34",
   "metadata": {},
   "outputs": [
    {
     "data": {
      "text/plain": [
       "RandomForestRegressor(random_state=1)"
      ]
     },
     "execution_count": 31,
     "metadata": {},
     "output_type": "execute_result"
    }
   ],
   "source": [
    "#Tworzenie modelu\n",
    "from sklearn.ensemble import RandomForestRegressor\n",
    "forecast_model = RandomForestRegressor(random_state=1)\n",
    "\n",
    "forecast_model.fit(train_X, train_y)\n",
    "#forecast_predictions = forest_model.predict(val_X)\n"
   ]
  },
  {
   "cell_type": "code",
   "execution_count": 36,
   "id": "88e0fbf0",
   "metadata": {},
   "outputs": [],
   "source": [
    "forecast_predictions = forecast_model.predict(val_X)"
   ]
  },
  {
   "cell_type": "code",
   "execution_count": 39,
   "id": "9a8119ae",
   "metadata": {},
   "outputs": [
    {
     "name": "stdout",
     "output_type": "stream",
     "text": [
      "0.002884268295013118\n"
     ]
    }
   ],
   "source": [
    "from sklearn.metrics import mean_absolute_error\n",
    "print(mean_absolute_error(val_y, forecast_predictions))"
   ]
  },
  {
   "cell_type": "code",
   "execution_count": 46,
   "id": "0d1bbea3",
   "metadata": {},
   "outputs": [
    {
     "data": {
      "text/plain": [
       "8505    4.88\n",
       "Name: T (degC), dtype: float64"
      ]
     },
     "execution_count": 46,
     "metadata": {},
     "output_type": "execute_result"
    }
   ],
   "source": [
    "forecast_model.predict(val_X.iloc[[1000]])\n",
    "val_y.iloc[[1000]]"
   ]
  },
  {
   "cell_type": "code",
   "execution_count": null,
   "id": "eb41865f",
   "metadata": {},
   "outputs": [],
   "source": []
  }
 ],
 "metadata": {
  "kernelspec": {
   "display_name": "Python 3 (ipykernel)",
   "language": "python",
   "name": "python3"
  },
  "language_info": {
   "codemirror_mode": {
    "name": "ipython",
    "version": 3
   },
   "file_extension": ".py",
   "mimetype": "text/x-python",
   "name": "python",
   "nbconvert_exporter": "python",
   "pygments_lexer": "ipython3",
   "version": "3.9.7"
  }
 },
 "nbformat": 4,
 "nbformat_minor": 5
}
